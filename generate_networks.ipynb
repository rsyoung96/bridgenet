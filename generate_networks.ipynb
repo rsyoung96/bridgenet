{
 "cells": [
  {
   "cell_type": "code",
   "execution_count": 1,
   "metadata": {},
   "outputs": [],
   "source": [
    "import pickle\n",
    "import networkx as nx\n",
    "from networkx.algorithms import community\n",
    "import matplotlib.pyplot as plt\n",
    "import random\n",
    "import numpy as np\n",
    "from time import time\n",
    "import csv\n",
    "%matplotlib inline\n",
    "import math\n",
    "import Queue"
   ]
  },
  {
   "cell_type": "code",
   "execution_count": 2,
   "metadata": {},
   "outputs": [],
   "source": [
    "INTERSECTION = 0\n",
    "BRIDGE = 1\n",
    "MI_PER_DEGREE_LAT = 69.4\n",
    "MI_PER_DEGREE_LONG = math.cos(math.radians(37.75)) * MI_PER_DEGREE_LAT"
   ]
  },
  {
   "cell_type": "code",
   "execution_count": 3,
   "metadata": {
    "scrolled": true
   },
   "outputs": [
    {
     "name": "stdout",
     "output_type": "stream",
     "text": [
      "finished loading road network\n",
      "finished adding bridges\n"
     ]
    }
   ],
   "source": [
    "# Load road network\n",
    "H = nx.read_gpickle(\"quick_traffic_model/input/graphMTC_CentroidsLength3int_nx2.gpickle\")\n",
    "G = nx.Graph()\n",
    "G.add_nodes_from(H.nodes(data=True))\n",
    "G.add_edges_from(H.edges(data=True))\n",
    "\n",
    "# Make intersections node type 0 to separate from bridges\n",
    "for n in G.nodes():\n",
    "    G.nodes[n]['nodetype'] = INTERSECTION # intersection, not bridge\n",
    "\n",
    "print 'finished loading road network'\n",
    "G = G.to_undirected()\n",
    "\n",
    "# Open bridge database\n",
    "bridges_dict = None\n",
    "with open('quick_traffic_model/input/20140114_master_bridge_dict.pkl','rb') as f:\n",
    "    bridges_dict = pickle.load(f)\n",
    "\n",
    "# Add list of bridges on each road segment\n",
    "for b_num in bridges_dict.keys():\n",
    "    bridge_edges = bridges_dict[b_num]['a_b_pairs_direct']\n",
    "    new_id = str(bridges_dict[b_num]['new_id'])\n",
    "    for [u,v] in bridge_edges:\n",
    "        G.edges[str(u),str(v)]['bridges'].append('b' + new_id)\n",
    "        \n",
    "intersections_G = G.copy()\n",
    "\n",
    "# For each bridge, make a new node connecting to the proper intersections\n",
    "for (u,v) in intersections_G.edges():\n",
    "    if len(intersections_G.edges[u,v]['bridges']) > 0:\n",
    "        bridge_list = G.edges[u,v]['bridges']\n",
    "        uvt_0 = G.edges[u,v]['t_0']\n",
    "        uvdistance = G.edges[u,v]['distance']\n",
    "        dailyvol = G.edges[u,v]['dailyvolume']\n",
    "        for bridge in bridge_list:\n",
    "            if not G.has_node(bridge):\n",
    "                G.add_node(bridge, nodetype=BRIDGE)\n",
    "            G.add_edge(u, bridge, t_0 = uvt_0/2, distance = uvdistance/2, dailyvolume=dailyvol)\n",
    "            G.add_edge(bridge, v, t_0 = uvt_0/2, distance = uvdistance/2, dailyvolume=dailyvol)\n",
    "        G.remove_edge(u,v)\n",
    "\n",
    "# add in bridge locations\n",
    "with open('quick_traffic_model/bridge_metadata_NBI.csv') as bridges_file:\n",
    "    reader = csv.reader(bridges_file)\n",
    "    next(reader)\n",
    "    while True:\n",
    "        try:\n",
    "            next_line = next(reader)\n",
    "        except StopIteration:\n",
    "            break\n",
    "        bid = next_line[0]\n",
    "        lat = next_line[8]\n",
    "        lon = next_line[9]\n",
    "        if 'b'+bid in G.nodes:\n",
    "            G.nodes['b'+bid]['pos'] = (float(lat), float(lon))\n",
    "\n",
    "print 'finished adding bridges'\n",
    "bridges_and_intersections_G = G.copy()"
   ]
  },
  {
   "cell_type": "code",
   "execution_count": null,
   "metadata": {},
   "outputs": [],
   "source": [
    "# MAKE THE BRIDGE NETWORK\n",
    "# Remove the intersections\n",
    "MAX_EDGES_BETWEEN = 30\n",
    "MAX_TIME_BETWEEN = 10*60\n",
    "MAX_DISTANCE_BETWEEN = 10\n",
    "MAX_L2_DIST_BETWEEN = 10\n",
    "for n1, n2 in bridges_and_intersections_G.edges():\n",
    "    G.edges[n1, n2]['edges_between'] = 1\n",
    "\n",
    "for n in list(G.nodes()):\n",
    "    if G.nodes[n]['nodetype'] == INTERSECTION:\n",
    "        ns = list(G.neighbors(n))\n",
    "        for v1 in range(len(ns)):\n",
    "            for v2 in range(v1+1, len(ns)):\n",
    "                v1n = ns[v1]\n",
    "                v2n = ns[v2]\n",
    "                new_edge_dist = (G.edges[n,v1n]['edges_between'] + \n",
    "                                 G.edges[n,v2n]['edges_between'])\n",
    "                new_time_dist = (G.edges[n,v1n]['t_0'] + \n",
    "                                 G.edges[n,v2n]['t_0'])\n",
    "                new_dist = (G.edges[n,v1n]['distance'] + \n",
    "                            G.edges[n,v2n]['distance'])\n",
    "                if G.has_edge(v1n, v2n):\n",
    "                    new_edge_dist = min(new_edge_dist, G.edges[v1n, v2n]['edges_between'])\n",
    "                    new_time_dist = min(new_time_dist, G.edges[v1n, v2n]['t_0'])\n",
    "                    new_dist = min(new_dist, G.edges[v1n, v2n]['distance'])\n",
    "                l2_dist = 0\n",
    "                if G.nodes[v1n]['nodetype'] == BRIDGE and G.nodes[v2n]['nodetype'] == BRIDGE:\n",
    "                    lat1,lon1 = G.node[v1n]['pos']\n",
    "                    lat2,lon2 = G.node[v2n]['pos']\n",
    "                    l2_dist = np.sqrt((MI_PER_DEGREE_LAT**2 * (lat1 - lat2)**2) + (MI_PER_DEGREE_LONG**2 * (lon1 - lon2)**2))\n",
    "                if (new_edge_dist <= MAX_EDGES_BETWEEN and \n",
    "                    new_time_dist <= MAX_TIME_BETWEEN and\n",
    "                    new_dist <= MAX_DISTANCE_BETWEEN and\n",
    "                    l2_dist <= MAX_L2_DIST_BETWEEN):\n",
    "                    G.add_edge(v1n, v2n, \n",
    "                               edges_between = new_edge_dist, \n",
    "                               t_0 = new_time_dist,\n",
    "                               distance = new_dist)\n",
    "        G.remove_node(n)\n",
    "        \n",
    "\n",
    "print 'finished removing road intersections'\n",
    "bridges_G = G.copy()\n",
    "\n",
    "print 'removing', len(list(bridges_G.selfloop_edges())), 'self-loop edges'\n",
    "bridges_G.remove_edges_from(bridges_G.selfloop_edges())\n",
    "print 'removing', len(list(nx.isolates(bridges_G))), 'isolated bridges'\n",
    "bridges_G.remove_nodes_from(list(nx.isolates(bridges_G)) )"
   ]
  },
  {
   "cell_type": "code",
   "execution_count": null,
   "metadata": {},
   "outputs": [],
   "source": [
    "#print G.nodes()\n",
    "#print G.edges()\n",
    "#print 'INTERSECTIONS'\n",
    "#for (u,v) in intersections_G.edges():\n",
    "#    if len(intersections_G.get_edge_data(u, v)['bridges']) > 0:\n",
    "#        print u,v,intersections_G.get_edge_data(u, v)\n",
    "    \n",
    "# 7016 6970 {'distance': 2.079999, 'dailyvolume': 133477, 'capacity_0': 9500, 'lanes': 5, \n",
    "# 'bridges': ['b956', 'b960', 'b1743'], 't_a': 124, 'flow': 0, 'distance_0': 2.079999, 'capacity': 9500, 't_0': 124}\n",
    "\n",
    "    \n",
    "#print 'INTERSECTIONS AND BRIDGES'\n",
    "#for (u,v) in intersections_G.edges()[:100]:\n",
    "#    print u,v,bridges_and_intersections_G.get_edge_data(u, v)"
   ]
  },
  {
   "cell_type": "code",
   "execution_count": null,
   "metadata": {},
   "outputs": [],
   "source": [
    "# all on same road segment\n",
    "#print 'b956', 'b960', bridges_G.get_edge_data('b956', 'b960')\n",
    "#print 'b1743', 'b960', bridges_G.get_edge_data('b1743', 'b960')\n",
    "#print 'b956', 'b1743', bridges_G.get_edge_data('b956', 'b1743')\n",
    "\n",
    "# b959 is adjacent to all 3 if in parallel, not if in series\n",
    "#print 'b959', 'b956', bridges_G.get_edge_data('b956', 'b960')\n",
    "#print 'b959', 'b960', bridges_G.get_edge_data('b1743', 'b960')\n",
    "#print 'b959', 'b1743', bridges_G.get_edge_data('b956', 'b1743')\n",
    "\n",
    "# confirm that gives different results than missing edges\n",
    "#print 'fake', 'fake2', bridges_G.get_edge_data('fake', 'fake2')"
   ]
  },
  {
   "cell_type": "code",
   "execution_count": null,
   "metadata": {},
   "outputs": [],
   "source": [
    "#compare_community_metrics(bridges_G)"
   ]
  },
  {
   "cell_type": "code",
   "execution_count": 4,
   "metadata": {},
   "outputs": [],
   "source": [
    "def compare_community_metrics(graph, num_iters=10, num_retrofits=5):\n",
    "    modularity = np.zeros(num_iters)\n",
    "    performance = np.zeros(num_iters)\n",
    "    coverage = np.zeros(num_iters)\n",
    "    \n",
    "    for i in range(num_iters):\n",
    "        retrofitted = random.sample(graph.nodes(), num_retrofits)\n",
    "        not_retrofitted = [n for n in graph.nodes() if n not in retrofitted]\n",
    "        modularity[i] = community.modularity(graph, [retrofitted, not_retrofitted])\n",
    "        performance[i] = community.performance(graph, [retrofitted, not_retrofitted])\n",
    "        coverage[i] = community.coverage(graph, [retrofitted, not_retrofitted])\n",
    "        print(modularity[i], performance[i], coverage[i])\n",
    "    \n",
    "    print('modularity:', np.argsort(modularity)) \n",
    "    print('performance:', np.argsort(performance))\n",
    "    print('coverage:', np.argsort(coverage))\n",
    "\n",
    "def get_highest_coverage(graph, num_tries=100, num_retrofits=5, num_samples=10, max_kl_iter=5):\n",
    "    # run num_tries simulations of retrofitting num_retrofits bridges, and pick the best num_samples\n",
    "    retrofit_sets = []\n",
    "    coverages = np.zeros(num_tries)\n",
    "    \n",
    "    for i in range(num_tries):\n",
    "        tic = time()\n",
    "        # pick num_retrofits nodes to be retrofitted\n",
    "        retrofitted = random.sample(graph.nodes(), num_retrofits)\n",
    "        not_retrofitted = [n for n in graph.nodes() if n not in retrofitted]\n",
    "        #new_part = [retrofitted, not_retrofitted]\n",
    "        new_part = community.kernighan_lin_bisection(graph, partition=[retrofitted, not_retrofitted], max_iter=max_kl_iter, weight='dailyvolume')\n",
    "        coverages[i] = community.coverage(graph, new_part)\n",
    "        retrofit_sets.append(list(new_part[0]))\n",
    "        print 'done with iteration', i, 'in time', (time()-tic)\n",
    "    \n",
    "    argsorted = np.argsort(coverages)\n",
    "    selection = [retrofit_sets[i] for i in argsorted[:num_samples]]\n",
    "    return selection"
   ]
  },
  {
   "cell_type": "code",
   "execution_count": null,
   "metadata": {
    "scrolled": true
   },
   "outputs": [],
   "source": [
    "tic = time()\n",
    "retrofit_samples = get_highest_coverage(bridges_G, num_tries=10, num_retrofits=50, num_samples=10)\n",
    "print(time() - tic)\n",
    "print retrofit_samples"
   ]
  },
  {
   "cell_type": "code",
   "execution_count": null,
   "metadata": {},
   "outputs": [],
   "source": [
    "pos=nx.get_node_attributes(bridges_G,'pos') # positions for all nodes\n",
    "\n",
    "fig = plt.figure(figsize=(12,12))\n",
    "\n",
    "# nodes\n",
    "nx.draw_networkx_nodes(bridges_G, pos,\n",
    "                       node_color='r',\n",
    "                       node_size=15)\n",
    "nx.draw_networkx_nodes(bridges_G, pos,\n",
    "                       nodelist=retrofit_samples[5],\n",
    "                       node_color='b',\n",
    "                       node_size=15)\n",
    "\n",
    "#nx.draw_networkx_labels(bridges_G, pos)\n",
    "\n",
    "# edges\n",
    "nx.draw_networkx_edges(bridges_G, pos)\n",
    "\n",
    "plt.show()"
   ]
  },
  {
   "cell_type": "code",
   "execution_count": null,
   "metadata": {},
   "outputs": [],
   "source": [
    "rdists = []\n",
    "ldists = []\n",
    "\n",
    "for v1,v2 in bridges_G.edges:\n",
    "    lat1,lon1 = bridges_G.node[v1]['pos']\n",
    "    lat2,lon2 = bridges_G.node[v2]['pos']\n",
    "    ldist = np.sqrt((MI_PER_DEGREE_LAT**2 * (lat1 - lat2)**2) + (MI_PER_DEGREE_LONG**2 * (lon1 - lon2)**2))\n",
    "    if ldist < 10:\n",
    "        ldists.append(ldist)\n",
    "        rdists.append(bridges_G.edges[v1,v2]['distance'])\n",
    "        #print 'L2 distance:', dist, ', road distance:', bridges_G.edges[v1,v2]['distance']\n",
    "\n",
    "plt.scatter(rdists, ldists)"
   ]
  },
  {
   "cell_type": "code",
   "execution_count": null,
   "metadata": {},
   "outputs": [],
   "source": []
  },
  {
   "cell_type": "code",
   "execution_count": 5,
   "metadata": {},
   "outputs": [],
   "source": [
    "def l2_dist(graph, n1, n2):\n",
    "    lat1,lon1 = graph.node[n1]['pos']\n",
    "    lat2,lon2 = graph.node[n2]['pos']\n",
    "    return np.sqrt(((MI_PER_DEGREE_LAT * (lat1 - lat2))**2) + ((MI_PER_DEGREE_LONG * (lon1 - lon2))**2))"
   ]
  },
  {
   "cell_type": "code",
   "execution_count": 6,
   "metadata": {},
   "outputs": [],
   "source": [
    "# UNIFORM COST SEARCH ALGORITHM adapted from http://cyluun.github.io/blog/uninformed-search-algorithms-in-python\n",
    "def get_bridges_ucs_graph(bai_G, n, max_d):\n",
    "    # baiG = bridges_and_intersections_G\n",
    "    # returns new network of bridges connected to their closest n bridges\n",
    "    # max_l2_dist limits impossible connections\n",
    "    closest_neighbors = {}\n",
    "    \n",
    "    for start in bai_G.nodes:\n",
    "        if bai_G.nodes[start]['nodetype'] == BRIDGE:\n",
    "            #print 'searching for neighbors for', start\n",
    "            visited = set()\n",
    "            pqueue = Queue.PriorityQueue()\n",
    "            pqueue.put((0, 10000000, start))\n",
    "            closest_neighbors[start] = []\n",
    "\n",
    "            while pqueue:\n",
    "                cost, curflow, node = 0, 10000000, None\n",
    "                try:\n",
    "                    cost, curflow, node = pqueue.get_nowait()\n",
    "                except Queue.Empty:\n",
    "                    break\n",
    "                if node not in visited:\n",
    "                    visited.add(node)\n",
    "\n",
    "                    if bai_G.nodes[node]['nodetype'] == BRIDGE and not node == start:\n",
    "                        if l2_dist(bai_G, start, node) < max_d:\n",
    "                            closest_neighbors[start].append((node, curflow))\n",
    "                            if len(closest_neighbors[start]) == n:\n",
    "                                break\n",
    "                    else: \n",
    "                        for i in bai_G.neighbors(node):\n",
    "                            if i not in visited:\n",
    "                                total_cost = cost + bai_G.edges[node,i]['distance']\n",
    "                                edgeflow = bai_G.edges[node,i]['dailyvolume']\n",
    "                                if total_cost < max_d:\n",
    "                                    pqueue.put((total_cost, min(edgeflow, curflow), i))\n",
    "    \n",
    "    G = nx.Graph()\n",
    "    G.add_nodes_from(bai_G.nodes(data=True))\n",
    "    \n",
    "    for node in list(G.nodes):\n",
    "        if not 'b' in node:\n",
    "            G.remove_node(node)\n",
    "    \n",
    "    for node, new_neighbors in closest_neighbors.items():\n",
    "        for neighbor in new_neighbors:\n",
    "            dailyvol = max(neighbor[1], 5)\n",
    "            G.add_edge(node, neighbor[0], dailyvolume=dailyvol)\n",
    "    \n",
    "    return G"
   ]
  },
  {
   "cell_type": "code",
   "execution_count": 7,
   "metadata": {},
   "outputs": [
    {
     "name": "stdout",
     "output_type": "stream",
     "text": [
      "removing 6 isolated bridges\n"
     ]
    }
   ],
   "source": [
    "ucs_G = get_bridges_ucs_graph(bridges_and_intersections_G, 4, 20)\n",
    "print 'removing', len(list(nx.isolates(ucs_G))), 'isolated bridges'\n",
    "ucs_G.remove_nodes_from(list(nx.isolates(ucs_G)))"
   ]
  },
  {
   "cell_type": "code",
   "execution_count": 8,
   "metadata": {},
   "outputs": [
    {
     "name": "stdout",
     "output_type": "stream",
     "text": [
      "done with iteration 0 in time 16.5450870991\n",
      "done with iteration 1 in time 16.8028290272\n",
      "done with iteration 2 in time 15.2911558151\n",
      "done with iteration 3 in time 14.3394918442\n",
      "done with iteration 4 in time 21.2322218418\n",
      "done with iteration 5 in time 15.9142291546\n",
      "done with iteration 6 in time 17.9083151817\n",
      "done with iteration 7 in time 15.7861230373\n",
      "done with iteration 8 in time 17.5363881588\n",
      "done with iteration 9 in time 18.8519179821\n",
      "('total time:', 170.20941805839539)\n"
     ]
    }
   ],
   "source": [
    "tic = time()\n",
    "retrofit_samples = get_highest_coverage(ucs_G, num_tries=10, num_retrofits=50, num_samples=10, max_kl_iter=2)\n",
    "print('total time:', time() - tic)\n",
    "#print retrofit_samples"
   ]
  },
  {
   "cell_type": "code",
   "execution_count": 57,
   "metadata": {},
   "outputs": [],
   "source": [
    "#def run_kl(graph, orig_retrofit, num_retrofits=50, max_kl_iter=5):\n",
    "#    # run num_tries simulations of retrofitting num_retrofits bridges, and pick the best num_samples\n",
    "#    tic = time()\n",
    "#    retrofitted = ['b' + str(r) for r in orig_retrofit]\n",
    "#    not_retrofitted = [n for n in graph.nodes() if n not in retrofitted]\n",
    "#    #new_part = [retrofitted, not_retrofitted]\n",
    "#    new_part = community.kernighan_lin_bisection(graph, partition=[retrofitted, not_retrofitted], max_iter=max_kl_iter, weight='dailyvolume')\n",
    "#    print 'done with KL in time', (time()-tic)\n",
    "#    return list(new_part[0])\n",
    "    "
   ]
  },
  {
   "cell_type": "code",
   "execution_count": 71,
   "metadata": {},
   "outputs": [
    {
     "name": "stdout",
     "output_type": "stream",
     "text": [
      "done with KL in time 42.0723438263\n",
      "['b1570', 'b1635', 'b547', 'b1433', 'b1731', 'b666', 'b152', 'b158', 'b428', 'b1644', 'b851', 'b701', 'b1006', 'b1250', 'b976', 'b54', 'b830', 'b239', 'b1427', 'b1182', 'b535', 'b473', 'b1034', 'b1178', 'b62', 'b1499', 'b60', 'b1053', 'b1155', 'b1364', 'b1695', 'b1692', 'b208', 'b174', 'b365', 'b681', 'b1626', 'b724', 'b1441', 'b1330', 'b79', 'b553', 'b215', 'b256', 'b693', 'b163', 'b1653', 'b1656', 'b1658', 'b599']\n"
     ]
    }
   ],
   "source": [
    "#ucs_G = get_bridges_ucs_graph(bridges_and_intersections_G, 4, 20)\n",
    "#traf_rets = [469,369,258,411,401,374,367,341,340,323,314,310,305,303,302,301,247,43,28,273,272,268,267,224,479,466,257,1116,1025,1024,1017,1015,508,930,874,873,871,870,929,885,878,845,839,465,453,407,236,1106,1027, 797]\n",
    "#traf_mod_rets = run_kl(ucs_G, traf_rets, num_retrofits=50, max_kl_iter=5)\n",
    "#print(traf_mod_rets)"
   ]
  },
  {
   "cell_type": "code",
   "execution_count": 72,
   "metadata": {
    "scrolled": false
   },
   "outputs": [
    {
     "data": {
      "image/png": "[encoded data removed]",
      "text/plain": [
       "<Figure size 864x864 with 1 Axes>"
      ]
     },
     "metadata": {},
     "output_type": "display_data"
    }
   ],
   "source": [
    "pos=nx.get_node_attributes(ucs_G,'pos') # positions for all nodes\n",
    "\n",
    "fig = plt.figure(figsize=(12,12))\n",
    "\n",
    "# nodes\n",
    "nx.draw_networkx_nodes(ucs_G, pos,\n",
    "                       node_color='r',\n",
    "                       node_size=15)\n",
    "nx.draw_networkx_nodes(ucs_G, pos,\n",
    "                       nodelist=traf_mod_rets,\n",
    "                       node_color='b',\n",
    "                       node_size=15)\n",
    "\n",
    "# edges\n",
    "weights = [(ucs_G[u][v]['dailyvolume'])**(.33) /10 for u,v in ucs_G.edges]\n",
    "#nx.draw_networkx_edges(ucs_G, pos, width=weights)\n",
    "\n",
    "plt.show()\n",
    "\n",
    "#for a,b in ucs_G.edges:\n",
    "#    print ucs_G.edges[a,b]['dailyvolume']"
   ]
  },
  {
   "cell_type": "code",
   "execution_count": 9,
   "metadata": {},
   "outputs": [],
   "source": [
    "with open('modularity_weighted_rets_50.csv', 'w') as modularity_csv:\n",
    "    writer = csv.writer(modularity_csv)\n",
    "    for row in retrofit_samples:\n",
    "        writer.writerow(row)"
   ]
  },
  {
   "cell_type": "code",
   "execution_count": 10,
   "metadata": {},
   "outputs": [
    {
     "name": "stdout",
     "output_type": "stream",
     "text": [
      "done with iteration 0 in time 58.6460139751\n",
      "done with iteration 1 in time 56.8464360237\n",
      "done with iteration 2 in time 66.064207077\n",
      "done with iteration 3 in time 58.3220989704\n",
      "done with iteration 4 in time 57.180588007\n",
      "done with iteration 5 in time 64.4415099621\n",
      "done with iteration 6 in time 60.4420208931\n",
      "done with iteration 7 in time 62.5100119114\n",
      "done with iteration 8 in time 56.5545310974\n",
      "done with iteration 9 in time 62.5243971348\n"
     ]
    }
   ],
   "source": [
    "retrofit_samples = get_highest_coverage(ucs_G, num_tries=10, num_retrofits=100, num_samples=10, max_kl_iter=2)\n",
    "with open('modularity_weighted_rets_100.csv', 'w') as modularity_csv:\n",
    "    writer = csv.writer(modularity_csv)\n",
    "    for row in retrofit_samples:\n",
    "        writer.writerow(row)"
   ]
  },
  {
   "cell_type": "code",
   "execution_count": null,
   "metadata": {},
   "outputs": [],
   "source": []
  }
 ],
 "metadata": {
  "kernelspec": {
   "display_name": "Python 2",
   "language": "python",
   "name": "python2"
  },
  "language_info": {
   "codemirror_mode": {
    "name": "ipython",
    "version": 2
   },
   "file_extension": ".py",
   "mimetype": "text/x-python",
   "name": "python",
   "nbconvert_exporter": "python",
   "pygments_lexer": "ipython2",
   "version": "2.7.13"
  }
 },
 "nbformat": 4,
 "nbformat_minor": 2
}
